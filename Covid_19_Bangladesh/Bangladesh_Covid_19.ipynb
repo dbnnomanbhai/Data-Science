{
 "cells": [
  {
   "cell_type": "code",
   "execution_count": 1,
   "id": "1aeeb554",
   "metadata": {},
   "outputs": [],
   "source": [
    "import pandas as pd\n",
    "import seaborn as sns\n",
    "sns.set(color_codes=True)"
   ]
  },
  {
   "cell_type": "code",
   "execution_count": 2,
   "id": "5de72a4e",
   "metadata": {},
   "outputs": [],
   "source": [
    "covid = pd.read_csv('covid19.csv')"
   ]
  },
  {
   "cell_type": "code",
   "execution_count": 5,
   "id": "2233eb59",
   "metadata": {},
   "outputs": [
    {
     "data": {
      "text/html": [
       "<div>\n",
       "<style scoped>\n",
       "    .dataframe tbody tr th:only-of-type {\n",
       "        vertical-align: middle;\n",
       "    }\n",
       "\n",
       "    .dataframe tbody tr th {\n",
       "        vertical-align: top;\n",
       "    }\n",
       "\n",
       "    .dataframe thead th {\n",
       "        text-align: right;\n",
       "    }\n",
       "</style>\n",
       "<table border=\"1\" class=\"dataframe\">\n",
       "  <thead>\n",
       "    <tr style=\"text-align: right;\">\n",
       "      <th></th>\n",
       "      <th>State/UTs</th>\n",
       "      <th>Total Cases</th>\n",
       "      <th>Active</th>\n",
       "      <th>Discharged</th>\n",
       "      <th>Deaths</th>\n",
       "      <th>Active Ratio (%)</th>\n",
       "      <th>Discharge Ratio (%)</th>\n",
       "      <th>Death Ratio (%)</th>\n",
       "      <th>Unnamed: 8</th>\n",
       "    </tr>\n",
       "  </thead>\n",
       "  <tbody>\n",
       "    <tr>\n",
       "      <th>0</th>\n",
       "      <td>DHAKA</td>\n",
       "      <td>7549.0</td>\n",
       "      <td>1.0</td>\n",
       "      <td>7419.0</td>\n",
       "      <td>129.0</td>\n",
       "      <td>0.01</td>\n",
       "      <td>98.28</td>\n",
       "      <td>1.71</td>\n",
       "      <td>NaN</td>\n",
       "    </tr>\n",
       "    <tr>\n",
       "      <th>1</th>\n",
       "      <td>CHTTAGAONG</td>\n",
       "      <td>1995669.0</td>\n",
       "      <td>16341.0</td>\n",
       "      <td>1965657.0</td>\n",
       "      <td>13671.0</td>\n",
       "      <td>0.82</td>\n",
       "      <td>98.50</td>\n",
       "      <td>0.69</td>\n",
       "      <td>NaN</td>\n",
       "    </tr>\n",
       "    <tr>\n",
       "      <th>2</th>\n",
       "      <td>NOAKHALI</td>\n",
       "      <td>51655.0</td>\n",
       "      <td>1763.0</td>\n",
       "      <td>49640.0</td>\n",
       "      <td>252.0</td>\n",
       "      <td>3.41</td>\n",
       "      <td>96.10</td>\n",
       "      <td>0.49</td>\n",
       "      <td>NaN</td>\n",
       "    </tr>\n",
       "    <tr>\n",
       "      <th>3</th>\n",
       "      <td>BOGRA</td>\n",
       "      <td>581398.0</td>\n",
       "      <td>8772.0</td>\n",
       "      <td>567113.0</td>\n",
       "      <td>5513.0</td>\n",
       "      <td>1.51</td>\n",
       "      <td>97.54</td>\n",
       "      <td>0.95</td>\n",
       "      <td>NaN</td>\n",
       "    </tr>\n",
       "    <tr>\n",
       "      <th>4</th>\n",
       "      <td>RAJSHAHI</td>\n",
       "      <td>725518.0</td>\n",
       "      <td>204.0</td>\n",
       "      <td>715665.0</td>\n",
       "      <td>9649.0</td>\n",
       "      <td>0.03</td>\n",
       "      <td>98.64</td>\n",
       "      <td>1.33</td>\n",
       "      <td>NaN</td>\n",
       "    </tr>\n",
       "  </tbody>\n",
       "</table>\n",
       "</div>"
      ],
      "text/plain": [
       "    State/UTs  Total Cases   Active  Discharged   Deaths  Active Ratio (%)  \\\n",
       "0       DHAKA       7549.0      1.0      7419.0    129.0              0.01   \n",
       "1  CHTTAGAONG    1995669.0  16341.0   1965657.0  13671.0              0.82   \n",
       "2    NOAKHALI      51655.0   1763.0     49640.0    252.0              3.41   \n",
       "3       BOGRA     581398.0   8772.0    567113.0   5513.0              1.51   \n",
       "4    RAJSHAHI     725518.0    204.0    715665.0   9649.0              0.03   \n",
       "\n",
       "   Discharge Ratio (%)  Death Ratio (%) Unnamed: 8  \n",
       "0                98.28             1.71        NaN  \n",
       "1                98.50             0.69        NaN  \n",
       "2                96.10             0.49        NaN  \n",
       "3                97.54             0.95        NaN  \n",
       "4                98.64             1.33        NaN  "
      ]
     },
     "execution_count": 5,
     "metadata": {},
     "output_type": "execute_result"
    }
   ],
   "source": [
    "covid.head()"
   ]
  },
  {
   "cell_type": "code",
   "execution_count": 6,
   "id": "6661244e",
   "metadata": {},
   "outputs": [
    {
     "name": "stderr",
     "output_type": "stream",
     "text": [
      "C:\\Users\\Noman\\anaconda3\\lib\\site-packages\\seaborn\\_decorators.py:36: FutureWarning: Pass the following variables as keyword args: x, y. From version 0.12, the only valid positional argument will be `data`, and passing other arguments without an explicit keyword will result in an error or misinterpretation.\n",
      "  warnings.warn(\n"
     ]
    },
    {
     "data": {
      "text/plain": [
       "<AxesSubplot:xlabel='Active', ylabel='Deaths'>"
      ]
     },
     "execution_count": 6,
     "metadata": {},
     "output_type": "execute_result"
    },
    {
     "data": {
      "image/png": "[encoded data removed]",
      "text/plain": [
       "<Figure size 432x288 with 1 Axes>"
      ]
     },
     "metadata": {},
     "output_type": "display_data"
    }
   ],
   "source": [
    "sns.barplot(covid['Active'], covid['Deaths'])"
   ]
  },
  {
   "cell_type": "code",
   "execution_count": 7,
   "id": "eb28100f",
   "metadata": {},
   "outputs": [
    {
     "name": "stderr",
     "output_type": "stream",
     "text": [
      "C:\\Users\\Noman\\anaconda3\\lib\\site-packages\\seaborn\\_decorators.py:36: FutureWarning: Pass the following variables as keyword args: x, y. From version 0.12, the only valid positional argument will be `data`, and passing other arguments without an explicit keyword will result in an error or misinterpretation.\n",
      "  warnings.warn(\n"
     ]
    },
    {
     "data": {
      "text/plain": [
       "<seaborn.axisgrid.JointGrid at 0x2883d996760>"
      ]
     },
     "execution_count": 7,
     "metadata": {},
     "output_type": "execute_result"
    },
    {
     "data": {
      "image/png": "[encoded data removed]",
      "text/plain": [
       "<Figure size 432x432 with 3 Axes>"
      ]
     },
     "metadata": {},
     "output_type": "display_data"
    }
   ],
   "source": [
    "sns.jointplot(covid['Deaths'], covid['Active'], kind=\"hex\")"
   ]
  },
  {
   "cell_type": "code",
   "execution_count": null,
   "id": "67b84430",
   "metadata": {},
   "outputs": [],
   "source": []
  }
 ],
 "metadata": {
  "kernelspec": {
   "display_name": "Python 3",
   "language": "python",
   "name": "python3"
  },
  "language_info": {
   "codemirror_mode": {
    "name": "ipython",
    "version": 3
   },
   "file_extension": ".py",
   "mimetype": "text/x-python",
   "name": "python",
   "nbconvert_exporter": "python",
   "pygments_lexer": "ipython3",
   "version": "3.8.8"
  }
 },
 "nbformat": 4,
 "nbformat_minor": 5
}
